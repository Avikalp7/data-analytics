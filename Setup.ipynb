{
 "cells": [
  {
   "cell_type": "markdown",
   "metadata": {},
   "source": [
    "# Setup your tools\n",
    "\n",
    "We will be using Python tool (IPython, scikit-learn and matplotlib) for development and `git` for version control.\n",
    "\n",
    "**It is highly recommemended that you switch to a ubuntu/mac system**\n",
    "* Download and install [Anaconda](http://continuum.io/downloads)\n",
    "* [Github windows client](https://desktop.github.com/). ubutnu users should have git installed by default, if not use your system's package manager (`apt-get`, `homebrew` for mac users)\n",
    "\n",
    "### Learn and Practice git\n",
    "\n",
    "* Complete the exercise https://github.com/AGV-IIT-KGP/git-sandbox, instructions and resources are given in the readme.\n",
    "\n",
    "### Learn Python\n",
    "\n",
    "* [Think Python: How to Think Like a Computer Scientist](http://www.greenteapress.com/thinkpython/thinkpython.html), HTML and PDF versions are available for free on its website. Reading the first 30 pages should be enough to get you going.\n",
    "\n",
    "### Learn Machine Learning (theory)\n",
    "\n",
    "* [Learning from Data: Caltech](http://work.caltech.edu/telecourse.html)\n",
    "* [Machine Learning: Coursera: Andrew Ng](https://www.coursera.org/learn/machine-learning)\n",
    "\n",
    "### Learn Machine Learning (practice)\n",
    "\n",
    "* [SciKit-Learn Tutorial](https://github.com/amueller/scipy_2015_sklearn_tutorial)\n",
    "\n",
    "### Exploratory Data Analysis\n",
    "\n",
    "* [Think Stats](http://greenteapress.com/thinkstats2/thinkstats2.pdf)\n",
    "\n",
    "### Baysian Statistics\n",
    "\n",
    "* [Think Bayes](http://www.greenteapress.com/thinkbayes/thinkbayes.pdf)\n",
    "\n",
    "\n",
    "Everybody need not learn everything rather is it recommended that each one of you learn one (different) thing and learn it well. "
   ]
  }
 ],
 "metadata": {
  "kernelspec": {
   "display_name": "Python 2",
   "language": "python",
   "name": "python2"
  },
  "language_info": {
   "codemirror_mode": {
    "name": "ipython",
    "version": 2
   },
   "file_extension": ".py",
   "mimetype": "text/x-python",
   "name": "python",
   "nbconvert_exporter": "python",
   "pygments_lexer": "ipython2",
   "version": "2.7.10"
  }
 },
 "nbformat": 4,
 "nbformat_minor": 0
}
